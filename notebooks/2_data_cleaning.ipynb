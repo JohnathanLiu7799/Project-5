{
 "cells": [
  {
   "cell_type": "markdown",
   "id": "75656ffa-a826-4d0a-a808-92da53fd5f6b",
   "metadata": {},
   "source": [
    "# Data Cleaning"
   ]
  },
  {
   "cell_type": "markdown",
   "id": "c6e064b8-93aa-459b-99ba-1ad6cecee0c4",
   "metadata": {},
   "source": [
    "## Library Imports"
   ]
  },
  {
   "cell_type": "code",
   "execution_count": 1,
   "id": "58ee7dfe-7b20-4998-9583-99fe3dc55b31",
   "metadata": {},
   "outputs": [],
   "source": [
    "import pandas as pd"
   ]
  },
  {
   "cell_type": "markdown",
   "id": "73fff9ed-9120-4f2d-a2ba-84dfc334c496",
   "metadata": {},
   "source": [
    "## Data Imports"
   ]
  },
  {
   "cell_type": "code",
   "execution_count": 2,
   "id": "c4ba24f6-72aa-4dc1-910f-1c2dc0c42905",
   "metadata": {},
   "outputs": [
    {
     "ename": "FileNotFoundError",
     "evalue": "[Errno 2] No such file or directory: '../datasets/vaccination_rate.csv'",
     "output_type": "error",
     "traceback": [
      "\u001b[1;31m---------------------------------------------------------------------------\u001b[0m",
      "\u001b[1;31mFileNotFoundError\u001b[0m                         Traceback (most recent call last)",
      "\u001b[1;32m<ipython-input-2-d8f86231d231>\u001b[0m in \u001b[0;36m<module>\u001b[1;34m\u001b[0m\n\u001b[0;32m      1\u001b[0m \u001b[1;31m# read vaccination rate csv\u001b[0m\u001b[1;33m\u001b[0m\u001b[1;33m\u001b[0m\u001b[1;33m\u001b[0m\u001b[0m\n\u001b[1;32m----> 2\u001b[1;33m \u001b[0mvaccination\u001b[0m \u001b[1;33m=\u001b[0m \u001b[0mpd\u001b[0m\u001b[1;33m.\u001b[0m\u001b[0mread_csv\u001b[0m\u001b[1;33m(\u001b[0m\u001b[1;34m'../datasets/vaccination_rate.csv'\u001b[0m\u001b[1;33m)\u001b[0m\u001b[1;33m\u001b[0m\u001b[1;33m\u001b[0m\u001b[0m\n\u001b[0m",
      "\u001b[1;32mC:\\ProgramData\\Anaconda3\\envs\\dsi-111\\lib\\site-packages\\pandas\\io\\parsers.py\u001b[0m in \u001b[0;36mread_csv\u001b[1;34m(filepath_or_buffer, sep, delimiter, header, names, index_col, usecols, squeeze, prefix, mangle_dupe_cols, dtype, engine, converters, true_values, false_values, skipinitialspace, skiprows, skipfooter, nrows, na_values, keep_default_na, na_filter, verbose, skip_blank_lines, parse_dates, infer_datetime_format, keep_date_col, date_parser, dayfirst, cache_dates, iterator, chunksize, compression, thousands, decimal, lineterminator, quotechar, quoting, doublequote, escapechar, comment, encoding, dialect, error_bad_lines, warn_bad_lines, delim_whitespace, low_memory, memory_map, float_precision, storage_options)\u001b[0m\n\u001b[0;32m    608\u001b[0m     \u001b[0mkwds\u001b[0m\u001b[1;33m.\u001b[0m\u001b[0mupdate\u001b[0m\u001b[1;33m(\u001b[0m\u001b[0mkwds_defaults\u001b[0m\u001b[1;33m)\u001b[0m\u001b[1;33m\u001b[0m\u001b[1;33m\u001b[0m\u001b[0m\n\u001b[0;32m    609\u001b[0m \u001b[1;33m\u001b[0m\u001b[0m\n\u001b[1;32m--> 610\u001b[1;33m     \u001b[1;32mreturn\u001b[0m \u001b[0m_read\u001b[0m\u001b[1;33m(\u001b[0m\u001b[0mfilepath_or_buffer\u001b[0m\u001b[1;33m,\u001b[0m \u001b[0mkwds\u001b[0m\u001b[1;33m)\u001b[0m\u001b[1;33m\u001b[0m\u001b[1;33m\u001b[0m\u001b[0m\n\u001b[0m\u001b[0;32m    611\u001b[0m \u001b[1;33m\u001b[0m\u001b[0m\n\u001b[0;32m    612\u001b[0m \u001b[1;33m\u001b[0m\u001b[0m\n",
      "\u001b[1;32mC:\\ProgramData\\Anaconda3\\envs\\dsi-111\\lib\\site-packages\\pandas\\io\\parsers.py\u001b[0m in \u001b[0;36m_read\u001b[1;34m(filepath_or_buffer, kwds)\u001b[0m\n\u001b[0;32m    460\u001b[0m \u001b[1;33m\u001b[0m\u001b[0m\n\u001b[0;32m    461\u001b[0m     \u001b[1;31m# Create the parser.\u001b[0m\u001b[1;33m\u001b[0m\u001b[1;33m\u001b[0m\u001b[1;33m\u001b[0m\u001b[0m\n\u001b[1;32m--> 462\u001b[1;33m     \u001b[0mparser\u001b[0m \u001b[1;33m=\u001b[0m \u001b[0mTextFileReader\u001b[0m\u001b[1;33m(\u001b[0m\u001b[0mfilepath_or_buffer\u001b[0m\u001b[1;33m,\u001b[0m \u001b[1;33m**\u001b[0m\u001b[0mkwds\u001b[0m\u001b[1;33m)\u001b[0m\u001b[1;33m\u001b[0m\u001b[1;33m\u001b[0m\u001b[0m\n\u001b[0m\u001b[0;32m    463\u001b[0m \u001b[1;33m\u001b[0m\u001b[0m\n\u001b[0;32m    464\u001b[0m     \u001b[1;32mif\u001b[0m \u001b[0mchunksize\u001b[0m \u001b[1;32mor\u001b[0m \u001b[0miterator\u001b[0m\u001b[1;33m:\u001b[0m\u001b[1;33m\u001b[0m\u001b[1;33m\u001b[0m\u001b[0m\n",
      "\u001b[1;32mC:\\ProgramData\\Anaconda3\\envs\\dsi-111\\lib\\site-packages\\pandas\\io\\parsers.py\u001b[0m in \u001b[0;36m__init__\u001b[1;34m(self, f, engine, **kwds)\u001b[0m\n\u001b[0;32m    817\u001b[0m             \u001b[0mself\u001b[0m\u001b[1;33m.\u001b[0m\u001b[0moptions\u001b[0m\u001b[1;33m[\u001b[0m\u001b[1;34m\"has_index_names\"\u001b[0m\u001b[1;33m]\u001b[0m \u001b[1;33m=\u001b[0m \u001b[0mkwds\u001b[0m\u001b[1;33m[\u001b[0m\u001b[1;34m\"has_index_names\"\u001b[0m\u001b[1;33m]\u001b[0m\u001b[1;33m\u001b[0m\u001b[1;33m\u001b[0m\u001b[0m\n\u001b[0;32m    818\u001b[0m \u001b[1;33m\u001b[0m\u001b[0m\n\u001b[1;32m--> 819\u001b[1;33m         \u001b[0mself\u001b[0m\u001b[1;33m.\u001b[0m\u001b[0m_engine\u001b[0m \u001b[1;33m=\u001b[0m \u001b[0mself\u001b[0m\u001b[1;33m.\u001b[0m\u001b[0m_make_engine\u001b[0m\u001b[1;33m(\u001b[0m\u001b[0mself\u001b[0m\u001b[1;33m.\u001b[0m\u001b[0mengine\u001b[0m\u001b[1;33m)\u001b[0m\u001b[1;33m\u001b[0m\u001b[1;33m\u001b[0m\u001b[0m\n\u001b[0m\u001b[0;32m    820\u001b[0m \u001b[1;33m\u001b[0m\u001b[0m\n\u001b[0;32m    821\u001b[0m     \u001b[1;32mdef\u001b[0m \u001b[0mclose\u001b[0m\u001b[1;33m(\u001b[0m\u001b[0mself\u001b[0m\u001b[1;33m)\u001b[0m\u001b[1;33m:\u001b[0m\u001b[1;33m\u001b[0m\u001b[1;33m\u001b[0m\u001b[0m\n",
      "\u001b[1;32mC:\\ProgramData\\Anaconda3\\envs\\dsi-111\\lib\\site-packages\\pandas\\io\\parsers.py\u001b[0m in \u001b[0;36m_make_engine\u001b[1;34m(self, engine)\u001b[0m\n\u001b[0;32m   1048\u001b[0m             )\n\u001b[0;32m   1049\u001b[0m         \u001b[1;31m# error: Too many arguments for \"ParserBase\"\u001b[0m\u001b[1;33m\u001b[0m\u001b[1;33m\u001b[0m\u001b[1;33m\u001b[0m\u001b[0m\n\u001b[1;32m-> 1050\u001b[1;33m         \u001b[1;32mreturn\u001b[0m \u001b[0mmapping\u001b[0m\u001b[1;33m[\u001b[0m\u001b[0mengine\u001b[0m\u001b[1;33m]\u001b[0m\u001b[1;33m(\u001b[0m\u001b[0mself\u001b[0m\u001b[1;33m.\u001b[0m\u001b[0mf\u001b[0m\u001b[1;33m,\u001b[0m \u001b[1;33m**\u001b[0m\u001b[0mself\u001b[0m\u001b[1;33m.\u001b[0m\u001b[0moptions\u001b[0m\u001b[1;33m)\u001b[0m  \u001b[1;31m# type: ignore[call-arg]\u001b[0m\u001b[1;33m\u001b[0m\u001b[1;33m\u001b[0m\u001b[0m\n\u001b[0m\u001b[0;32m   1051\u001b[0m \u001b[1;33m\u001b[0m\u001b[0m\n\u001b[0;32m   1052\u001b[0m     \u001b[1;32mdef\u001b[0m \u001b[0m_failover_to_python\u001b[0m\u001b[1;33m(\u001b[0m\u001b[0mself\u001b[0m\u001b[1;33m)\u001b[0m\u001b[1;33m:\u001b[0m\u001b[1;33m\u001b[0m\u001b[1;33m\u001b[0m\u001b[0m\n",
      "\u001b[1;32mC:\\ProgramData\\Anaconda3\\envs\\dsi-111\\lib\\site-packages\\pandas\\io\\parsers.py\u001b[0m in \u001b[0;36m__init__\u001b[1;34m(self, src, **kwds)\u001b[0m\n\u001b[0;32m   1865\u001b[0m \u001b[1;33m\u001b[0m\u001b[0m\n\u001b[0;32m   1866\u001b[0m         \u001b[1;31m# open handles\u001b[0m\u001b[1;33m\u001b[0m\u001b[1;33m\u001b[0m\u001b[1;33m\u001b[0m\u001b[0m\n\u001b[1;32m-> 1867\u001b[1;33m         \u001b[0mself\u001b[0m\u001b[1;33m.\u001b[0m\u001b[0m_open_handles\u001b[0m\u001b[1;33m(\u001b[0m\u001b[0msrc\u001b[0m\u001b[1;33m,\u001b[0m \u001b[0mkwds\u001b[0m\u001b[1;33m)\u001b[0m\u001b[1;33m\u001b[0m\u001b[1;33m\u001b[0m\u001b[0m\n\u001b[0m\u001b[0;32m   1868\u001b[0m         \u001b[1;32massert\u001b[0m \u001b[0mself\u001b[0m\u001b[1;33m.\u001b[0m\u001b[0mhandles\u001b[0m \u001b[1;32mis\u001b[0m \u001b[1;32mnot\u001b[0m \u001b[1;32mNone\u001b[0m\u001b[1;33m\u001b[0m\u001b[1;33m\u001b[0m\u001b[0m\n\u001b[0;32m   1869\u001b[0m         \u001b[1;32mfor\u001b[0m \u001b[0mkey\u001b[0m \u001b[1;32min\u001b[0m \u001b[1;33m(\u001b[0m\u001b[1;34m\"storage_options\"\u001b[0m\u001b[1;33m,\u001b[0m \u001b[1;34m\"encoding\"\u001b[0m\u001b[1;33m,\u001b[0m \u001b[1;34m\"memory_map\"\u001b[0m\u001b[1;33m,\u001b[0m \u001b[1;34m\"compression\"\u001b[0m\u001b[1;33m)\u001b[0m\u001b[1;33m:\u001b[0m\u001b[1;33m\u001b[0m\u001b[1;33m\u001b[0m\u001b[0m\n",
      "\u001b[1;32mC:\\ProgramData\\Anaconda3\\envs\\dsi-111\\lib\\site-packages\\pandas\\io\\parsers.py\u001b[0m in \u001b[0;36m_open_handles\u001b[1;34m(self, src, kwds)\u001b[0m\n\u001b[0;32m   1360\u001b[0m         \u001b[0mLet\u001b[0m \u001b[0mthe\u001b[0m \u001b[0mreaders\u001b[0m \u001b[0mopen\u001b[0m \u001b[0mIOHanldes\u001b[0m \u001b[0mafter\u001b[0m \u001b[0mthey\u001b[0m \u001b[0mare\u001b[0m \u001b[0mdone\u001b[0m \u001b[1;32mwith\u001b[0m \u001b[0mtheir\u001b[0m \u001b[0mpotential\u001b[0m \u001b[0mraises\u001b[0m\u001b[1;33m.\u001b[0m\u001b[1;33m\u001b[0m\u001b[1;33m\u001b[0m\u001b[0m\n\u001b[0;32m   1361\u001b[0m         \"\"\"\n\u001b[1;32m-> 1362\u001b[1;33m         self.handles = get_handle(\n\u001b[0m\u001b[0;32m   1363\u001b[0m             \u001b[0msrc\u001b[0m\u001b[1;33m,\u001b[0m\u001b[1;33m\u001b[0m\u001b[1;33m\u001b[0m\u001b[0m\n\u001b[0;32m   1364\u001b[0m             \u001b[1;34m\"r\"\u001b[0m\u001b[1;33m,\u001b[0m\u001b[1;33m\u001b[0m\u001b[1;33m\u001b[0m\u001b[0m\n",
      "\u001b[1;32mC:\\ProgramData\\Anaconda3\\envs\\dsi-111\\lib\\site-packages\\pandas\\io\\common.py\u001b[0m in \u001b[0;36mget_handle\u001b[1;34m(path_or_buf, mode, encoding, compression, memory_map, is_text, errors, storage_options)\u001b[0m\n\u001b[0;32m    640\u001b[0m                 \u001b[0merrors\u001b[0m \u001b[1;33m=\u001b[0m \u001b[1;34m\"replace\"\u001b[0m\u001b[1;33m\u001b[0m\u001b[1;33m\u001b[0m\u001b[0m\n\u001b[0;32m    641\u001b[0m             \u001b[1;31m# Encoding\u001b[0m\u001b[1;33m\u001b[0m\u001b[1;33m\u001b[0m\u001b[1;33m\u001b[0m\u001b[0m\n\u001b[1;32m--> 642\u001b[1;33m             handle = open(\n\u001b[0m\u001b[0;32m    643\u001b[0m                 \u001b[0mhandle\u001b[0m\u001b[1;33m,\u001b[0m\u001b[1;33m\u001b[0m\u001b[1;33m\u001b[0m\u001b[0m\n\u001b[0;32m    644\u001b[0m                 \u001b[0mioargs\u001b[0m\u001b[1;33m.\u001b[0m\u001b[0mmode\u001b[0m\u001b[1;33m,\u001b[0m\u001b[1;33m\u001b[0m\u001b[1;33m\u001b[0m\u001b[0m\n",
      "\u001b[1;31mFileNotFoundError\u001b[0m: [Errno 2] No such file or directory: '../datasets/vaccination_rate.csv'"
     ]
    }
   ],
   "source": [
    "# read vaccination rate csv\n",
    "vaccination = pd.read_csv('../datasets/vaccination_rate.csv')"
   ]
  },
  {
   "cell_type": "code",
   "execution_count": null,
   "id": "67017bf8-46c9-440e-9607-08b4ad25d9ce",
   "metadata": {},
   "outputs": [],
   "source": [
    "# read vaccine hesitancy csv\n",
    "hesitancy = pd.read_csv('../datasets/vaccine_hesitancy.csv')"
   ]
  },
  {
   "cell_type": "markdown",
   "id": "e95b2664-7e9f-4fa1-849e-552d2bb48463",
   "metadata": {},
   "source": [
    "### Vaccination Rate Dataset"
   ]
  },
  {
   "cell_type": "code",
   "execution_count": null,
   "id": "3d8e00c7-cffa-4a64-a7df-4a506ef67838",
   "metadata": {},
   "outputs": [],
   "source": [
    "# look at top five rows\n",
    "vaccination.head()"
   ]
  },
  {
   "cell_type": "code",
   "execution_count": null,
   "id": "759eb5f5-9208-467a-ae78-faff9449d124",
   "metadata": {},
   "outputs": [],
   "source": [
    "# change column names to lowercase\n",
    "vaccination.columns = vaccination.columns.str.lower()"
   ]
  },
  {
   "cell_type": "code",
   "execution_count": null,
   "id": "ff7f9e30-ef45-4a2b-9516-b639bcc45d1f",
   "metadata": {},
   "outputs": [],
   "source": [
    "vaccination.info()"
   ]
  },
  {
   "cell_type": "code",
   "execution_count": null,
   "id": "cd45712a-6405-468d-9324-b572c544fb1c",
   "metadata": {},
   "outputs": [],
   "source": [
    "vaccination.describe()"
   ]
  },
  {
   "cell_type": "code",
   "execution_count": null,
   "id": "a2b51ca8-8c07-4cee-ab25-36eea7a0471a",
   "metadata": {},
   "outputs": [],
   "source": [
    "# drop duplicates\n",
    "# keeps the most recent vaccination rate\n",
    "vaccination = vaccination.drop_duplicates(subset=['fips'])"
   ]
  },
  {
   "cell_type": "code",
   "execution_count": null,
   "id": "0f2c2a02-e169-439d-bb30-9ff3c3a472ee",
   "metadata": {},
   "outputs": [],
   "source": [
    "vaccination.info()"
   ]
  },
  {
   "cell_type": "markdown",
   "id": "2581a7a0-6517-4b95-8b8d-6bf69b47bfa5",
   "metadata": {},
   "source": [
    "- `fips` should not be object"
   ]
  },
  {
   "cell_type": "code",
   "execution_count": null,
   "id": "22960a49-ae81-41ea-a49c-fd22655e14f1",
   "metadata": {},
   "outputs": [],
   "source": [
    "# remove row with unknown county\n",
    "delete_row = vaccination[vaccination['fips'] == 'UNK'].index\n",
    "vaccination = vaccination.drop(delete_row)"
   ]
  },
  {
   "cell_type": "code",
   "execution_count": null,
   "id": "f1745df9-32a0-4044-80b7-dd8490c77dc2",
   "metadata": {},
   "outputs": [],
   "source": [
    "# convert fips column to float\n",
    "vaccination['fips_code']= (vaccination['fips'].astype(int)/1)"
   ]
  },
  {
   "cell_type": "code",
   "execution_count": null,
   "id": "5f0a568c-7e38-424c-87b3-a39f99260dc9",
   "metadata": {},
   "outputs": [],
   "source": [
    "vaccination.isnull().sum()"
   ]
  },
  {
   "cell_type": "code",
   "execution_count": null,
   "id": "89d534c2-1710-4fc8-897f-5a91ba2d6736",
   "metadata": {},
   "outputs": [],
   "source": [
    "#locate which row has null in svi_ctgy \n",
    "vaccination[vaccination['svi_ctgy'].isna()]"
   ]
  },
  {
   "cell_type": "code",
   "execution_count": null,
   "id": "454365f4-497a-43d1-b0bf-3b65b08307a2",
   "metadata": {},
   "outputs": [],
   "source": [
    "# remove rows\n",
    "vaccination = vaccination.drop([109, 429, 667, 3041])"
   ]
  },
  {
   "cell_type": "code",
   "execution_count": null,
   "id": "e01d1e3d-f52d-4d98-9ddd-dcfa67fd6036",
   "metadata": {},
   "outputs": [],
   "source": [
    "# fill nulls with '0'\n",
    "vaccination.fillna('0', inplace=True)"
   ]
  },
  {
   "cell_type": "code",
   "execution_count": null,
   "id": "b6df151f-dc0b-4faf-a609-1ccea8a0fae8",
   "metadata": {},
   "outputs": [],
   "source": [
    "# svi_ctgy for Rio Arriba County with 'D'\n",
    "vaccination['svi_ctgy'].replace({ '0':'D'}, inplace=True)"
   ]
  },
  {
   "cell_type": "code",
   "execution_count": null,
   "id": "8a73cbfa-05f0-46b0-931d-67986cdd7131",
   "metadata": {},
   "outputs": [],
   "source": [
    "# drop columns\n",
    "vaccination = vaccination.drop(columns=['date', 'mmwr_week', 'fips'])"
   ]
  },
  {
   "cell_type": "code",
   "execution_count": null,
   "id": "794580fa-e308-49b5-aafc-2138a8c328a8",
   "metadata": {},
   "outputs": [],
   "source": [
    "# save cleaned data\n",
    "vaccination.to_csv('../cleaned_data/vac_rate.csv', index = False)"
   ]
  },
  {
   "cell_type": "markdown",
   "id": "1b506ac8-b0c9-442c-aeda-43742af8ea41",
   "metadata": {},
   "source": [
    "### Vaccine Hesitancy Dataset"
   ]
  },
  {
   "cell_type": "code",
   "execution_count": null,
   "id": "874f10a2-8a5b-41dc-a282-26b32e55a864",
   "metadata": {},
   "outputs": [],
   "source": [
    "# look at top five rows\n",
    "hesitancy.head()"
   ]
  },
  {
   "cell_type": "code",
   "execution_count": null,
   "id": "9a4a88c9-02f7-4ec1-a279-27d17d44a4f9",
   "metadata": {},
   "outputs": [],
   "source": [
    "# change column names to lowercase\n",
    "# replace '' with '_'\n",
    "hesitancy.columns = hesitancy.columns.str.replace(' ','_').str.lower()"
   ]
  },
  {
   "cell_type": "code",
   "execution_count": null,
   "id": "365b9d89-de16-4bb3-b525-30b98db69d23",
   "metadata": {},
   "outputs": [],
   "source": [
    "hesitancy.info()"
   ]
  },
  {
   "cell_type": "code",
   "execution_count": null,
   "id": "8ac87343-d082-428c-a5b0-2d3606192030",
   "metadata": {},
   "outputs": [],
   "source": [
    "hesitancy.describe()"
   ]
  },
  {
   "cell_type": "code",
   "execution_count": null,
   "id": "204db1ad-2fd5-4c05-8218-f4ef1002dd7f",
   "metadata": {},
   "outputs": [],
   "source": [
    "hesitancy.isnull().sum()"
   ]
  },
  {
   "cell_type": "code",
   "execution_count": null,
   "id": "378572c6-cce3-4ed0-bd21-8e983b012822",
   "metadata": {},
   "outputs": [],
   "source": [
    "# fill nulls with '0'\n",
    "hesitancy['percent_adults_fully_vaccinated_against_covid-19_(as_of_6/10/21)'].fillna(0, inplace=True)"
   ]
  },
  {
   "cell_type": "code",
   "execution_count": null,
   "id": "564aa351-99be-4506-89cb-41b54a2f4bdd",
   "metadata": {},
   "outputs": [],
   "source": [
    "# create new column with just the county name\n",
    "hesitancy['name_of_county'] = hesitancy['county_name'].str.split(',').str[0]"
   ]
  },
  {
   "cell_type": "code",
   "execution_count": null,
   "id": "f4c8517c-c228-4717-9f25-fe071dc0a59c",
   "metadata": {},
   "outputs": [],
   "source": [
    "#locate which row has null \n",
    "hesitancy[hesitancy['social_vulnerability_index_(svi)'].isna()]"
   ]
  },
  {
   "cell_type": "code",
   "execution_count": null,
   "id": "19ce54c7-e639-4fcd-924a-da35e09b1bb5",
   "metadata": {},
   "outputs": [],
   "source": [
    "hesitancy.groupby(['state']).mean()"
   ]
  },
  {
   "cell_type": "code",
   "execution_count": null,
   "id": "b744b519-0efc-4e11-99ba-5cc5c81879d1",
   "metadata": {},
   "outputs": [],
   "source": [
    "# using the mean svi of New Mexico to replace the null value of Rio Arriba County, New Mexico with category\n",
    "hesitancy['social_vulnerability_index_(svi)'].fillna('.79', inplace=True)\n",
    "hesitancy['svi_category'].fillna('.', inplace=True)"
   ]
  },
  {
   "cell_type": "code",
   "execution_count": null,
   "id": "86090cfd-ea2f-43f3-8b0a-35f9e2bc937d",
   "metadata": {},
   "outputs": [],
   "source": [
    "# drop columns\n",
    "hesitancy = hesitancy.drop(columns=['county_name', 'geographical_point', 'county_boundary', 'state_boundary'])"
   ]
  },
  {
   "cell_type": "code",
   "execution_count": null,
   "id": "bdc31abf-f1f5-4aaf-8d15-1db2c9a0e435",
   "metadata": {},
   "outputs": [],
   "source": [
    "# save cleaned data\n",
    "hesitancy.to_csv('../cleaned_data/vaccine_hest.csv', index = False)"
   ]
  },
  {
   "cell_type": "markdown",
   "id": "c3bd1bd2-b994-4917-8e46-8cb8df225763",
   "metadata": {},
   "source": [
    "### Merge Datasets"
   ]
  },
  {
   "cell_type": "code",
   "execution_count": null,
   "id": "4c7d4837-bb2f-4792-8c4b-66af87b87f32",
   "metadata": {},
   "outputs": [],
   "source": [
    "# merge vaccination rate with vaccine hesitancy \n",
    "merged = pd.merge(hesitancy, vaccination, on = 'fips_code')"
   ]
  },
  {
   "cell_type": "code",
   "execution_count": null,
   "id": "b6cb1bd3-83bd-41d6-ba65-59e3af4e5741",
   "metadata": {},
   "outputs": [],
   "source": [
    "# drop columns with same information \n",
    "merged.drop(columns=['state_code', 'name_of_county'], inplace=True)"
   ]
  },
  {
   "cell_type": "code",
   "execution_count": null,
   "id": "cdab4008-1330-491a-8c83-08e0326ea86b",
   "metadata": {},
   "outputs": [],
   "source": [
    "# drop rows with  vaccination rate of 0 \n",
    "merged.drop(merged[merged['series_complete_pop_pct'] == 0].index, inplace = True)"
   ]
  },
  {
   "cell_type": "code",
   "execution_count": null,
   "id": "fc3e8dd0-cc93-41d0-a7ea-65a75e31eb58",
   "metadata": {},
   "outputs": [],
   "source": [
    "# save cleaned data\n",
    "merged.to_csv('../cleaned_data/merged.csv', index = False)"
   ]
  },
  {
   "cell_type": "markdown",
   "id": "d28f21c1-eb3b-4cf1-9c0c-99c0ce6cafca",
   "metadata": {
    "tags": []
   },
   "source": [
    "### Add Vaccine Allocation"
   ]
  },
  {
   "cell_type": "code",
   "execution_count": null,
   "id": "e6655379-5236-4e6e-89b2-85e5832f51e7",
   "metadata": {},
   "outputs": [],
   "source": [
    "state = pd.read_csv('../datasets/state_allocation.csv')\n",
    "merged = pd.read_csv('../cleaned_data/merged.csv')"
   ]
  },
  {
   "cell_type": "code",
   "execution_count": null,
   "id": "65d9ffbd-f02d-4041-a9ff-85d2a0de7731",
   "metadata": {},
   "outputs": [],
   "source": [
    "state = state[state['Date'] == '12/21/2021']\n",
    "\n",
    "#looking only the date that corresponds with our other data"
   ]
  },
  {
   "cell_type": "code",
   "execution_count": null,
   "id": "71c76498-37c5-4646-8d02-2c57ff1e27c6",
   "metadata": {},
   "outputs": [],
   "source": [
    "merged['pop'] = round(merged['series_complete_yes'] / (merged['series_complete_pop_pct'] / 100))"
   ]
  },
  {
   "cell_type": "code",
   "execution_count": null,
   "id": "8e663451-8b94-4fb7-9d87-fc41c5728700",
   "metadata": {},
   "outputs": [],
   "source": [
    "state_pop = {'AL':4934193, 'AK':724357, 'AZ':7520103, 'AR':3033946, 'CA':39613493, 'CO':5893634, 'CT':3552821, 'DE':990334, 'DC':714153, \n",
    "             'FL':21944577, 'GA':10830007, 'HI':1406430, 'ID':1860123, 'IL':12569321, 'IN':6805663, 'IA':3167974, 'KS':2917224, 'KY':4480713, \n",
    "             'LA':4627002, 'ME':1354522, 'MD':6065436, 'MA':6912239, 'MI':9992427, 'MN':5706398, 'MS':2966407, 'MO':6169038, 'MT':1085004, \n",
    "             'NE':1951996, 'NV':3185786, 'NH':1372, 'NJ':8874520, 'NM':2105005, 'NY':19299981, 'NC':10701022, 'ND':770026, 'OH':11714618, \n",
    "             'OK':3990443, 'OR':4289439, 'PA':12804123, 'PR':3194374, 'RI':1061509, 'SC':5277830, 'SD':896581, 'TN':6944260, 'TX':29730311, \n",
    "             'UT':3310774, 'VT':623251, 'VA':8603985, 'WA':7796941, 'WV':1767859, 'WI':5852490, 'WY':581075}"
   ]
  },
  {
   "cell_type": "code",
   "execution_count": null,
   "id": "c93bcfed-73c6-4c81-81c8-63fb35fe866b",
   "metadata": {},
   "outputs": [],
   "source": [
    "merged['state_pop'] = merged['recip_state']\n",
    "merged['state_pop'] = merged['state_pop'].map(state_pop)"
   ]
  },
  {
   "cell_type": "code",
   "execution_count": null,
   "id": "6ffaac90-88bf-4620-86b9-d36a07520b48",
   "metadata": {},
   "outputs": [],
   "source": [
    "merged['state_pop_pct'] = (merged['pop'] / merged['state_pop']) * 100"
   ]
  },
  {
   "cell_type": "code",
   "execution_count": null,
   "id": "7d80ac50-6373-46e8-98e1-3a4509d580ae",
   "metadata": {},
   "outputs": [],
   "source": [
    "state_dist = dict(zip(state.Location, state.Distributed))"
   ]
  },
  {
   "cell_type": "code",
   "execution_count": null,
   "id": "3397d04a-2886-422b-b1e4-ce784a1afe50",
   "metadata": {},
   "outputs": [],
   "source": [
    "merged['distributed'] = merged['recip_state']\n",
    "merged['distributed'] = merged['distributed'].map(state_dist)"
   ]
  },
  {
   "cell_type": "code",
   "execution_count": null,
   "id": "af0f00cc-2eb3-4387-86e6-f0ea17ee0d03",
   "metadata": {},
   "outputs": [],
   "source": [
    "merged['distributed'] = round((merged['distributed'] * merged['state_pop_pct']) / 100)"
   ]
  },
  {
   "cell_type": "code",
   "execution_count": null,
   "id": "314fa0bc-44bb-4143-8344-f46d42e436c7",
   "metadata": {},
   "outputs": [],
   "source": [
    "merged.head()"
   ]
  },
  {
   "cell_type": "code",
   "execution_count": null,
   "id": "fb4bfcc5-8df6-41a9-8f07-85fd6674d45f",
   "metadata": {},
   "outputs": [],
   "source": [
    "merged.to_csv('../cleaned_data/merged.csv', index = False)"
   ]
  },
  {
   "cell_type": "code",
   "execution_count": null,
   "id": "1f2d7129-a334-427e-bc55-4e24d6419d97",
   "metadata": {},
   "outputs": [],
   "source": []
  }
 ],
 "metadata": {
  "kernelspec": {
   "display_name": "Python 3",
   "language": "python",
   "name": "python3"
  },
  "language_info": {
   "codemirror_mode": {
    "name": "ipython",
    "version": 3
   },
   "file_extension": ".py",
   "mimetype": "text/x-python",
   "name": "python",
   "nbconvert_exporter": "python",
   "pygments_lexer": "ipython3",
   "version": "3.8.8"
  }
 },
 "nbformat": 4,
 "nbformat_minor": 5
}
